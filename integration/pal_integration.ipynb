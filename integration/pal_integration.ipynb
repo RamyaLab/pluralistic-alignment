{
 "cells": [
  {
   "cell_type": "code",
   "execution_count": 15,
   "metadata": {},
   "outputs": [],
   "source": [
    "import os, sys\n",
    "os.environ['CUDA_VISIBLE_DEVICES'] = '1'\n",
    "sys.path.append('..')\n",
    "from tqdm import tqdm\n",
    "import argparse\n",
    "from omegaconf import OmegaConf\n",
    "from types import MethodType\n",
    "\n",
    "import torch\n",
    "import lightning as L\n",
    "from src.pal_rm_b.lightningmodule import LearnerWrapLightning"
   ]
  },
  {
   "cell_type": "code",
   "execution_count": 16,
   "metadata": {},
   "outputs": [
    {
     "name": "stderr",
     "output_type": "stream",
     "text": [
      "2024-09-13 17:22:22,062 - src.pal_rm_b.learner - CRITICAL - 🛑 Remember to call update_trainable_params() after the model is initialized.\n"
     ]
    },
    {
     "name": "stdout",
     "output_type": "stream",
     "text": [
      "the upper bound is 4.0\n"
     ]
    }
   ],
   "source": [
    "checkpoint = torch.load('/home/daiwei/projects/pal/refactored-diverse-alignment/ckpts/summary-b-seen-epoch=00-f7f8.ckpt')\n",
    "prefLearner_config = OmegaConf.load('../config/prefLearner_config/b-dim512-k2-opt350m-mlp2.yaml')\n",
    "optim_config = OmegaConf.load('../config/optim_config/vanilla-e1.yaml')\n",
    "loss_config = OmegaConf.load('../config/loss_config/b-cumulative.yaml')\n",
    "ds_config = OmegaConf.load('../config/ds_config/summary.yaml')\n",
    "uids = torch.load(ds_config.user_ids_path)\n",
    "state_dict = checkpoint['state_dict']\n",
    "\n",
    "pal = LearnerWrapLightning(prefLearner_config, optim_config, loss_config)\n",
    "pal.prefLearner.user_learner.init_weight(uids)"
   ]
  },
  {
   "cell_type": "code",
   "execution_count": 17,
   "metadata": {},
   "outputs": [],
   "source": [
    "def load_ckpt_learner(learner, ckpt_path):\n",
    "    state_dict = torch.load(ckpt_path,map_location='cpu')['state_dict']\n",
    "    learner.load_state_dict(state_dict)\n",
    "    return learner\n",
    "\n",
    "pal = load_ckpt_learner(pal, '/home/daiwei/projects/pal/refactored-diverse-alignment/ckpts/summary-b-seen-epoch=00-f7f8.ckpt')"
   ]
  },
  {
   "cell_type": "code",
   "execution_count": 18,
   "metadata": {},
   "outputs": [],
   "source": [
    "def wrap_mix_forward_b(pal: torch.nn.Module, mix_weight: torch.tensor):\n",
    "    # override the forward function of the pal to be a standard reward model\n",
    "    # after the modification, the pal will be able to output:\n",
    "    # model a: the reward diff given a prompt\n",
    "    # model b: the reward logits given a prompt\n",
    "    def mix_forward_userlearner(self, prompt_tokens):\n",
    "        prompt_logits = self.infer_gk(prompt_tokens)\n",
    "        bs = prompt_tokens['input_ids'].size(0)\n",
    "        w = self.softmax(mix_weight.repeat(bs, 1))\n",
    "        w = w.unsqueeze(-1).unsqueeze(-1)\n",
    "        y_hat = (w * prompt_logits).sum(dim=1)\n",
    "        self.tmp_store_user_ideal_points = y_hat\n",
    "        return y_hat\n",
    "    def mix_forward_itemlearner(self, items):\n",
    "        embeds = self.llm(input_ids=items['input_ids'], attention_mask=items['attention_mask']).last_hidden_state\n",
    "        # embeds shape: (bs, seq_len, hidden_size)\n",
    "        shape = embeds.shape\n",
    "        embeds = embeds.view(-1, shape[-1]) # (bs*seq_len, hidden_size)\n",
    "        projected_embeds = self.projector(embeds)\n",
    "        return projected_embeds.view(shape[0], shape[1], -1)\n",
    "    def mix_map_preflearner(self, x):\n",
    "        # ({\n",
    "        # 'input_ids': prompt_input_ids,\\\n",
    "        # 'attention_mask': prompt_attention_mask,\n",
    "        # },\\\n",
    "        # {\n",
    "        # 'input_ids': eval_input_ids,\\\n",
    "        # 'attention_mask': eval_attention_mask,\\\n",
    "        # })\n",
    "        prompt, items = x\n",
    "        items_prime = self.item_learner(items)\n",
    "        prompt_prime = self.user_learner(prompt)\n",
    "        return items_prime, prompt_prime\n",
    "    def mix_forward_preflearner(self, x):\n",
    "        items, prompt = x\n",
    "        items_prime, prompt_prime = self.map_to_pref_embedding_space((prompt, items))\n",
    "        print(f\"{items_prime[0]=}\")\n",
    "        print(f\"{prompt_prime[0]=}\")\n",
    "        print(f\"{items_prime.shape=}\")\n",
    "        print(f\"{prompt_prime.shape=}\")\n",
    "        if self.pref_learner_type == 'angle':\n",
    "            items_prime = items_prime / torch.norm(items_prime, dim=-1, keepdim=True)\n",
    "            prompt_prime = prompt_prime / torch.norm(prompt_prime, dim=-1, keepdim=True)\n",
    "            prompt_prime = prompt_prime.unsqueeze(1)\n",
    "            logit_scale = self.logit_scale.exp()\n",
    "            clamped_logit_scale = torch.clamp(logit_scale, max=100)\n",
    "            print(clamped_logit_scale)\n",
    "            print((prompt_prime * items_prime).sum(dim=-1))\n",
    "            sim_score = (prompt_prime * items_prime).sum(dim=-1) * clamped_logit_scale   # (bs, max_token_length)\n",
    "            return sim_score\n",
    "        else:\n",
    "            raise NotImplementedError\n",
    "    def forwad(self, batch):\n",
    "        y_hat = self.prefLearner(batch)\n",
    "        return y_hat\n",
    "    pal.prefLearner.user_learner.forward = MethodType(mix_forward_userlearner, pal.prefLearner.user_learner)\n",
    "    pal.prefLearner.item_learner.forward = MethodType(mix_forward_itemlearner, pal.prefLearner.item_learner)\n",
    "    pal.prefLearner.map_to_pref_embedding_space = MethodType(mix_map_preflearner, pal.prefLearner)\n",
    "    pal.prefLearner.forward = MethodType(mix_forward_preflearner, pal.prefLearner)\n",
    "    pal.forward = MethodType(forwad, pal)\n",
    "    return pal\n",
    "\n",
    "def wrap_mix_forward_a(pal: torch.nn.Module, mix_weight: torch.tensor):\n",
    "    # override the forward function of the pal to be a standard reward model\n",
    "    # after the modification, the pal will be able to output:\n",
    "    # model a: the reward diff given a prompt\n",
    "    # model b: the reward logits given a prompt\n",
    "    def mix_forward_userlearner(self):\n",
    "        w = self.softmax(mix_weight.unsqueeze(0))\n",
    "        if self.learner_type == 'f(Pw)':\n",
    "            res = self.projector(w @ self.P)\n",
    "            return res\n",
    "        elif self.learner_type == 'f(P)w':\n",
    "            res = w @ self.projector(self.P)\n",
    "            return res\n",
    "        elif self.learner_type == 'Pw':\n",
    "            res = w @ self.P\n",
    "            return res\n",
    "        else:\n",
    "            raise NotImplementedError\n",
    "    def mix_forward_itemlearner(self, items):\n",
    "        \n",
    "        ...\n",
    "    def mix_map_preflearner(self, x):\n",
    "        # {\n",
    "        # 'input_ids': input_ids,\\\n",
    "        # 'attention_mask': attention_mask,\\\n",
    "        # }\n",
    "        items = x\n",
    "        x_left_prime, x_right_prime = self.item_learner(items)\n",
    "        u_prime = self.user_learner()\n",
    "        bs = items['left_input_ids'].size(0)\n",
    "        u_prime = u_prime.repeat(bs, 1)\n",
    "        return x_left_prime, x_right_prime, u_prime\n",
    "    \n",
    "    def forwad(self, batch):\n",
    "        y_hat = self.prefLearner(batch)\n",
    "        return y_hat\n",
    "    pal.prefLearner.user_learner.forward = MethodType(mix_forward_userlearner, pal.prefLearner.user_learner)\n",
    "    pal.prefLearner.map_to_pref_embedding_space = MethodType(mix_map_preflearner, pal.prefLearner)\n",
    "    pal.forward = MethodType(forwad, pal)\n",
    "    return pal"
   ]
  },
  {
   "cell_type": "code",
   "execution_count": 19,
   "metadata": {},
   "outputs": [],
   "source": [
    "pal = wrap_mix_forward_b(pal, torch.tensor([0.5]))"
   ]
  },
  {
   "cell_type": "code",
   "execution_count": 20,
   "metadata": {},
   "outputs": [],
   "source": [
    "prompt_input_ids = torch.tensor([[101, 1045, 2515, 1037, 2515, 1012, 102]])\n",
    "prompt_attention_mask = torch.ones_like(prompt_input_ids)\n",
    "chosen_input_ids = torch.tensor([[101, 1045, 2515, 1037, 2515, 1012, 102]])\n",
    "chosen_attention_mask = torch.ones_like(chosen_input_ids)\n",
    "rejected_input_ids = torch.tensor([[101, 1045, 2515, 1037, 2515, 1012, 102]])\n",
    "rejected_attention_mask = torch.ones_like(rejected_input_ids)\n",
    "\n",
    "tmp = (\n",
    "    {\n",
    "    'input_ids': prompt_input_ids,\n",
    "    'attention_mask': prompt_attention_mask,\n",
    "    },\n",
    "    {\n",
    "    'input_ids': chosen_input_ids,\n",
    "    'attention_mask': chosen_attention_mask,\n",
    "    }\n",
    ")"
   ]
  },
  {
   "cell_type": "code",
   "execution_count": 21,
   "metadata": {},
   "outputs": [
    {
     "name": "stdout",
     "output_type": "stream",
     "text": [
      "items_prime[0]=tensor([[ 0.1154, -0.2059, -0.0034,  ..., -1.0721,  0.2010,  0.1516],\n",
      "        [ 0.1147, -0.2062, -0.0038,  ..., -1.0724,  0.2012,  0.1545],\n",
      "        [ 0.1114, -0.2021, -0.0040,  ..., -1.0498,  0.1971,  0.1544],\n",
      "        ...,\n",
      "        [ 0.1092, -0.2000, -0.0043,  ..., -1.0371,  0.1949,  0.1557],\n",
      "        [ 0.1089, -0.1996, -0.0044,  ..., -1.0351,  0.1945,  0.1558],\n",
      "        [ 0.1078, -0.1984, -0.0045,  ..., -1.0283,  0.1933,  0.1561]],\n",
      "       grad_fn=<SelectBackward0>)\n",
      "prompt_prime[0]=tensor([[-0.0154, -0.0049, -0.0240,  ...,  0.0105,  0.0029,  0.1155],\n",
      "        [-0.0154, -0.0053, -0.0248,  ...,  0.0097,  0.0032,  0.1182],\n",
      "        [-0.0151, -0.0058, -0.0249,  ...,  0.0100,  0.0037,  0.1185],\n",
      "        ...,\n",
      "        [-0.0150, -0.0062, -0.0252,  ...,  0.0102,  0.0041,  0.1201],\n",
      "        [-0.0150, -0.0064, -0.0254,  ...,  0.0101,  0.0043,  0.1206],\n",
      "        [-0.0149, -0.0066, -0.0255,  ...,  0.0103,  0.0045,  0.1210]],\n",
      "       grad_fn=<SelectBackward0>)\n",
      "items_prime.shape=torch.Size([1, 7, 512])\n",
      "prompt_prime.shape=torch.Size([1, 7, 512])\n",
      "tensor(23.3060, grad_fn=<ClampBackward1>)\n",
      "tensor([[[-0.0440, -0.0298, -0.0121, -0.0090,  0.0057,  0.0082,  0.0155]]],\n",
      "       grad_fn=<SumBackward1>)\n"
     ]
    },
    {
     "data": {
      "text/plain": [
       "tensor([[[-1.0261, -0.6946, -0.2817, -0.2098,  0.1325,  0.1900,  0.3622]]],\n",
       "       grad_fn=<MulBackward0>)"
      ]
     },
     "execution_count": 21,
     "metadata": {},
     "output_type": "execute_result"
    }
   ],
   "source": [
    "pal(tmp)"
   ]
  },
  {
   "cell_type": "code",
   "execution_count": 35,
   "metadata": {},
   "outputs": [],
   "source": [
    "torch.save(pal, 'tmp_model.pth')"
   ]
  },
  {
   "cell_type": "code",
   "execution_count": 36,
   "metadata": {},
   "outputs": [],
   "source": [
    "torch.save(pal.state_dict(), 'tmp.pth')"
   ]
  },
  {
   "cell_type": "code",
   "execution_count": 37,
   "metadata": {},
   "outputs": [
    {
     "name": "stderr",
     "output_type": "stream",
     "text": [
      "2024-09-13 11:41:05,551 - src.pal_rm_b.learner - CRITICAL - 🛑 Remember to call update_trainable_params() after the model is initialized.\n"
     ]
    },
    {
     "name": "stdout",
     "output_type": "stream",
     "text": [
      "the upper bound is 4.0\n"
     ]
    }
   ],
   "source": [
    "pal_a = LearnerWrapLightning(prefLearner_config, optim_config, loss_config)\n",
    "pal_a.prefLearner.user_learner.init_weight(uids)\n",
    "pal_a = wrap_mix_forward_b(pal_a, torch.tensor([0.5]))"
   ]
  },
  {
   "cell_type": "code",
   "execution_count": 38,
   "metadata": {},
   "outputs": [
    {
     "data": {
      "text/plain": [
       "<All keys matched successfully>"
      ]
     },
     "execution_count": 38,
     "metadata": {},
     "output_type": "execute_result"
    }
   ],
   "source": [
    "pal_a.load_state_dict(torch.load('tmp.pth'))"
   ]
  },
  {
   "cell_type": "code",
   "execution_count": 39,
   "metadata": {},
   "outputs": [
    {
     "name": "stdout",
     "output_type": "stream",
     "text": [
      "items_prime[0]=tensor([[-0.4623, -3.6934,  1.5608,  ..., -1.7927,  3.0306, -1.9023],\n",
      "        [-0.0801, -3.2334,  4.6325,  ...,  0.1047,  2.6710, -2.0856],\n",
      "        [-0.2887, -3.6674,  3.5159,  ..., -1.6389,  2.6698, -3.2263],\n",
      "        ...,\n",
      "        [ 0.1620,  1.5926,  1.5016,  ..., -1.9584,  2.0274, -2.0478],\n",
      "        [-0.1873,  4.0954,  1.5305,  ..., -1.8824,  1.8769, -0.5328],\n",
      "        [-0.3072,  2.4888,  2.3021,  ..., -0.5701,  1.8019, -1.1066]],\n",
      "       grad_fn=<SelectBackward0>)\n",
      "prompt_prime[0]=tensor([[-0.4616, -3.6943,  1.5638,  ..., -1.7951,  3.0320, -1.9020],\n",
      "        [-0.0793, -3.2343,  4.6356,  ...,  0.1023,  2.6724, -2.0853],\n",
      "        [-0.2879, -3.6683,  3.5189,  ..., -1.6413,  2.6711, -3.2259],\n",
      "        ...,\n",
      "        [ 0.1628,  1.5917,  1.5047,  ..., -1.9608,  2.0287, -2.0475],\n",
      "        [-0.1866,  4.0945,  1.5336,  ..., -1.8848,  1.8782, -0.5324],\n",
      "        [-0.3065,  2.4878,  2.3051,  ..., -0.5725,  1.8032, -1.1062]],\n",
      "       grad_fn=<SelectBackward0>)\n",
      "items_prime.shape=torch.Size([1, 7, 512])\n",
      "prompt_prime.shape=torch.Size([1, 7, 512])\n",
      "tensor(3.2628, grad_fn=<ClampBackward1>)\n",
      "tensor([[[1.0000, 1.0000, 1.0000, 1.0000, 1.0000, 1.0000, 1.0000]]],\n",
      "       grad_fn=<SumBackward1>)\n"
     ]
    },
    {
     "data": {
      "text/plain": [
       "tensor([[[3.2628, 3.2628, 3.2628, 3.2628, 3.2628, 3.2628, 3.2628]]],\n",
       "       grad_fn=<MulBackward0>)"
      ]
     },
     "execution_count": 39,
     "metadata": {},
     "output_type": "execute_result"
    }
   ],
   "source": [
    "pal_a(tmp)"
   ]
  },
  {
   "cell_type": "code",
   "execution_count": null,
   "metadata": {},
   "outputs": [],
   "source": []
  },
  {
   "cell_type": "code",
   "execution_count": 40,
   "metadata": {},
   "outputs": [
    {
     "name": "stderr",
     "output_type": "stream",
     "text": [
      "2024-09-13 11:41:06,979 - src.pal_rm_b.learner - CRITICAL - 🛑 Remember to call update_trainable_params() after the model is initialized.\n"
     ]
    },
    {
     "name": "stdout",
     "output_type": "stream",
     "text": [
      "the upper bound is 4.0\n"
     ]
    }
   ],
   "source": [
    "pal_b = LearnerWrapLightning(prefLearner_config, optim_config, loss_config)\n",
    "pal_b.prefLearner.user_learner.init_weight(uids)\n",
    "pal_b = wrap_mix_forward_b(pal_b, torch.tensor([0.5]))"
   ]
  },
  {
   "cell_type": "code",
   "execution_count": 41,
   "metadata": {},
   "outputs": [],
   "source": [
    "def load_ckpt_learner(learner, ckpt_path):\n",
    "    state_dict = torch.load(ckpt_path,map_location='cpu')['state_dict']\n",
    "    learner.load_state_dict(state_dict)\n",
    "    return learner"
   ]
  },
  {
   "cell_type": "code",
   "execution_count": 42,
   "metadata": {},
   "outputs": [
    {
     "data": {
      "text/plain": [
       "LearnerWrapLightning(\n",
       "  (prefLearner): PrefLearner_angle(\n",
       "    (llm): OPTModel(\n",
       "      (decoder): OPTDecoder(\n",
       "        (embed_tokens): Embedding(50272, 512, padding_idx=1)\n",
       "        (embed_positions): OPTLearnedPositionalEmbedding(2050, 1024)\n",
       "        (project_out): Linear(in_features=1024, out_features=512, bias=False)\n",
       "        (project_in): Linear(in_features=512, out_features=1024, bias=False)\n",
       "        (layers): ModuleList(\n",
       "          (0-23): 24 x OPTDecoderLayer(\n",
       "            (self_attn): OPTAttention(\n",
       "              (k_proj): Linear(in_features=1024, out_features=1024, bias=True)\n",
       "              (v_proj): Linear(in_features=1024, out_features=1024, bias=True)\n",
       "              (q_proj): Linear(in_features=1024, out_features=1024, bias=True)\n",
       "              (out_proj): Linear(in_features=1024, out_features=1024, bias=True)\n",
       "            )\n",
       "            (activation_fn): ReLU()\n",
       "            (self_attn_layer_norm): LayerNorm((1024,), eps=1e-05, elementwise_affine=True)\n",
       "            (fc1): Linear(in_features=1024, out_features=4096, bias=True)\n",
       "            (fc2): Linear(in_features=4096, out_features=1024, bias=True)\n",
       "            (final_layer_norm): LayerNorm((1024,), eps=1e-05, elementwise_affine=True)\n",
       "          )\n",
       "        )\n",
       "      )\n",
       "    )\n",
       "    (projector_f): Connector(\n",
       "      (mlp): Projector(\n",
       "        (identity): Identity()\n",
       "        (layers): Sequential(\n",
       "          (0): Linear(in_features=512, out_features=512, bias=True)\n",
       "          (1): Dropout(p=0.5, inplace=False)\n",
       "          (2): ReLU()\n",
       "          (3): Linear(in_features=512, out_features=512, bias=True)\n",
       "          (4): Dropout(p=0.5, inplace=False)\n",
       "          (5): ReLU()\n",
       "          (6): Linear(in_features=512, out_features=512, bias=True)\n",
       "        )\n",
       "      )\n",
       "    )\n",
       "    (softmax_w): CustomSoftMax()\n",
       "    (item_learner): ItemLearner(\n",
       "      (llm): OPTModel(\n",
       "        (decoder): OPTDecoder(\n",
       "          (embed_tokens): Embedding(50272, 512, padding_idx=1)\n",
       "          (embed_positions): OPTLearnedPositionalEmbedding(2050, 1024)\n",
       "          (project_out): Linear(in_features=1024, out_features=512, bias=False)\n",
       "          (project_in): Linear(in_features=512, out_features=1024, bias=False)\n",
       "          (layers): ModuleList(\n",
       "            (0-23): 24 x OPTDecoderLayer(\n",
       "              (self_attn): OPTAttention(\n",
       "                (k_proj): Linear(in_features=1024, out_features=1024, bias=True)\n",
       "                (v_proj): Linear(in_features=1024, out_features=1024, bias=True)\n",
       "                (q_proj): Linear(in_features=1024, out_features=1024, bias=True)\n",
       "                (out_proj): Linear(in_features=1024, out_features=1024, bias=True)\n",
       "              )\n",
       "              (activation_fn): ReLU()\n",
       "              (self_attn_layer_norm): LayerNorm((1024,), eps=1e-05, elementwise_affine=True)\n",
       "              (fc1): Linear(in_features=1024, out_features=4096, bias=True)\n",
       "              (fc2): Linear(in_features=4096, out_features=1024, bias=True)\n",
       "              (final_layer_norm): LayerNorm((1024,), eps=1e-05, elementwise_affine=True)\n",
       "            )\n",
       "          )\n",
       "        )\n",
       "      )\n",
       "      (projector): Connector(\n",
       "        (mlp): Projector(\n",
       "          (identity): Identity()\n",
       "          (layers): Sequential(\n",
       "            (0): Linear(in_features=512, out_features=512, bias=True)\n",
       "            (1): Dropout(p=0.5, inplace=False)\n",
       "            (2): ReLU()\n",
       "            (3): Linear(in_features=512, out_features=512, bias=True)\n",
       "            (4): Dropout(p=0.5, inplace=False)\n",
       "            (5): ReLU()\n",
       "            (6): Linear(in_features=512, out_features=512, bias=True)\n",
       "          )\n",
       "        )\n",
       "      )\n",
       "    )\n",
       "    (user_learner): UserLearner(\n",
       "      (llm): OPTModel(\n",
       "        (decoder): OPTDecoder(\n",
       "          (embed_tokens): Embedding(50272, 512, padding_idx=1)\n",
       "          (embed_positions): OPTLearnedPositionalEmbedding(2050, 1024)\n",
       "          (project_out): Linear(in_features=1024, out_features=512, bias=False)\n",
       "          (project_in): Linear(in_features=512, out_features=1024, bias=False)\n",
       "          (layers): ModuleList(\n",
       "            (0-23): 24 x OPTDecoderLayer(\n",
       "              (self_attn): OPTAttention(\n",
       "                (k_proj): Linear(in_features=1024, out_features=1024, bias=True)\n",
       "                (v_proj): Linear(in_features=1024, out_features=1024, bias=True)\n",
       "                (q_proj): Linear(in_features=1024, out_features=1024, bias=True)\n",
       "                (out_proj): Linear(in_features=1024, out_features=1024, bias=True)\n",
       "              )\n",
       "              (activation_fn): ReLU()\n",
       "              (self_attn_layer_norm): LayerNorm((1024,), eps=1e-05, elementwise_affine=True)\n",
       "              (fc1): Linear(in_features=1024, out_features=4096, bias=True)\n",
       "              (fc2): Linear(in_features=4096, out_features=1024, bias=True)\n",
       "              (final_layer_norm): LayerNorm((1024,), eps=1e-05, elementwise_affine=True)\n",
       "            )\n",
       "          )\n",
       "        )\n",
       "      )\n",
       "      (softmax): CustomSoftMax()\n",
       "      (W): ParameterDict(\n",
       "          (KZL1qeRzHNYSfDAuOctL1iyVV8WC5N): Parameter containing: [torch.FloatTensor of size 1]\n",
       "          (ZzGCcAhvqF0HnKxNsUjtJFadcZdyZj): Parameter containing: [torch.FloatTensor of size 1]\n",
       "          (p4Oh7rUGyLe1EpilJFWr9sPDpkO016): Parameter containing: [torch.FloatTensor of size 1]\n",
       "          (qo6WIyEh27cwAjWpA3Q60J7NaDxzQJ): Parameter containing: [torch.FloatTensor of size 1]\n",
       "          (zKV8BFGy60O0q7102ALF84S6Jo5i4q): Parameter containing: [torch.FloatTensor of size 1]\n",
       "          (i8YiBZlrYmlkkChr5b9BUKvDO6lR1d): Parameter containing: [torch.FloatTensor of size 1]\n",
       "          (M3icahkfAtC9CJrtKgQ7qvyZ5SD8wC): Parameter containing: [torch.FloatTensor of size 1]\n",
       "          (HNzkrs9geGu1YMMfZ5Qvdt0ZaCthfB): Parameter containing: [torch.FloatTensor of size 1]\n",
       "          (Jxv4hxfb9zTVa5nsMDFlnjSX5LZ8MK): Parameter containing: [torch.FloatTensor of size 1]\n",
       "          (UhQipwcpQmiGJmScocXOGOKyCBaFUg): Parameter containing: [torch.FloatTensor of size 1]\n",
       "      )\n",
       "      (projectors): ModuleDict(\n",
       "        (0): Connector(\n",
       "          (mlp): Projector(\n",
       "            (identity): Identity()\n",
       "            (layers): Sequential(\n",
       "              (0): Linear(in_features=512, out_features=512, bias=True)\n",
       "              (1): Dropout(p=0.5, inplace=False)\n",
       "              (2): ReLU()\n",
       "              (3): Linear(in_features=512, out_features=512, bias=True)\n",
       "              (4): Dropout(p=0.5, inplace=False)\n",
       "              (5): ReLU()\n",
       "              (6): Linear(in_features=512, out_features=512, bias=True)\n",
       "            )\n",
       "          )\n",
       "        )\n",
       "      )\n",
       "    )\n",
       "  )\n",
       ")"
      ]
     },
     "execution_count": 42,
     "metadata": {},
     "output_type": "execute_result"
    }
   ],
   "source": [
    "load_ckpt_learner(pal_b, '../ckpts/summary-b-seen-epoch=02-bc92.ckpt')"
   ]
  },
  {
   "cell_type": "code",
   "execution_count": 43,
   "metadata": {},
   "outputs": [
    {
     "name": "stdout",
     "output_type": "stream",
     "text": [
      "items_prime[0]=tensor([[-0.4623, -3.6934,  1.5608,  ..., -1.7927,  3.0306, -1.9023],\n",
      "        [-0.0801, -3.2334,  4.6325,  ...,  0.1047,  2.6710, -2.0856],\n",
      "        [-0.2887, -3.6674,  3.5159,  ..., -1.6389,  2.6698, -3.2263],\n",
      "        ...,\n",
      "        [ 0.1620,  1.5926,  1.5016,  ..., -1.9584,  2.0274, -2.0478],\n",
      "        [-0.1873,  4.0954,  1.5305,  ..., -1.8824,  1.8769, -0.5328],\n",
      "        [-0.3072,  2.4888,  2.3021,  ..., -0.5701,  1.8019, -1.1066]],\n",
      "       grad_fn=<SelectBackward0>)\n",
      "prompt_prime[0]=tensor([[-0.4616, -3.6943,  1.5638,  ..., -1.7951,  3.0320, -1.9020],\n",
      "        [-0.0793, -3.2343,  4.6356,  ...,  0.1023,  2.6724, -2.0853],\n",
      "        [-0.2879, -3.6683,  3.5189,  ..., -1.6413,  2.6711, -3.2259],\n",
      "        ...,\n",
      "        [ 0.1628,  1.5917,  1.5047,  ..., -1.9608,  2.0287, -2.0475],\n",
      "        [-0.1866,  4.0945,  1.5336,  ..., -1.8848,  1.8782, -0.5324],\n",
      "        [-0.3065,  2.4878,  2.3051,  ..., -0.5725,  1.8032, -1.1062]],\n",
      "       grad_fn=<SelectBackward0>)\n",
      "items_prime.shape=torch.Size([1, 7, 512])\n",
      "prompt_prime.shape=torch.Size([1, 7, 512])\n",
      "tensor(3.2628, grad_fn=<ClampBackward1>)\n",
      "tensor([[[1.0000, 1.0000, 1.0000, 1.0000, 1.0000, 1.0000, 1.0000]]],\n",
      "       grad_fn=<SumBackward1>)\n"
     ]
    },
    {
     "data": {
      "text/plain": [
       "tensor([[[3.2628, 3.2628, 3.2628, 3.2628, 3.2628, 3.2628, 3.2628]]],\n",
       "       grad_fn=<MulBackward0>)"
      ]
     },
     "execution_count": 43,
     "metadata": {},
     "output_type": "execute_result"
    }
   ],
   "source": [
    "pal_b(tmp)"
   ]
  },
  {
   "cell_type": "code",
   "execution_count": null,
   "metadata": {},
   "outputs": [],
   "source": []
  },
  {
   "cell_type": "code",
   "execution_count": 44,
   "metadata": {},
   "outputs": [],
   "source": [
    "import logging\n",
    "logging.basicConfig(level=logging.WARNING, format='%(asctime)s - %(name)s - %(levelname)s - %(message)s')\n",
    "logger = logging.getLogger(__name__)\n",
    "\n",
    "def load_pal_rm_b(\n",
    "    mix_weight: torch.tensor,\n",
    "    pref_Learner_config_path: str,\n",
    "    optim_config_path: str,\n",
    "    loss_config_path: str,\n",
    "    ds_config_path: str,\n",
    "    state_dict_path: str,\n",
    "    **kwargs,\n",
    "):\n",
    "    logger.critical(' 💠 load configurations...')\n",
    "    prefLearner_config = OmegaConf.load(pref_Learner_config_path)\n",
    "    optim_config = OmegaConf.load(optim_config_path)\n",
    "    loss_config = OmegaConf.load(loss_config_path)\n",
    "    ds_config = OmegaConf.load(ds_config_path)\n",
    "    uids = torch.load(ds_config.user_ids_path)\n",
    "    logger.critical(' 💠 initiaize pal_rm model...')\n",
    "    pal = LearnerWrapLightning(prefLearner_config, optim_config, loss_config)\n",
    "    pal.prefLearner.user_learner.init_weight(uids)\n",
    "    pal_rm = wrap_mix_forward_b(pal, mix_weight)\n",
    "    load_ckpt_learner(pal_rm, state_dict_path)\n",
    "    logger.critical(' 💠 complete reformat: pal -> pal_rm!')\n",
    "    return pal_rm"
   ]
  },
  {
   "cell_type": "code",
   "execution_count": 45,
   "metadata": {},
   "outputs": [
    {
     "name": "stderr",
     "output_type": "stream",
     "text": [
      "2024-09-13 11:41:16,884 - __main__ - CRITICAL -  💠 load configurations...\n",
      "2024-09-13 11:41:16,895 - __main__ - CRITICAL -  💠 initiaize pal_rm model...\n",
      "2024-09-13 11:41:17,198 - src.pal_rm_b.learner - CRITICAL - 🛑 Remember to call update_trainable_params() after the model is initialized.\n"
     ]
    },
    {
     "name": "stdout",
     "output_type": "stream",
     "text": [
      "the upper bound is 4.0\n"
     ]
    },
    {
     "name": "stderr",
     "output_type": "stream",
     "text": [
      "2024-09-13 11:41:19,599 - __main__ - CRITICAL -  💠 complete reformat: pal -> pal_rm!\n"
     ]
    }
   ],
   "source": [
    "pal_c = load_pal_rm_b(\n",
    "    mix_weight=torch.tensor([0.5]),\n",
    "    pref_Learner_config_path='../config/prefLearner_config/b-dim512-k1-opt350m-mlp2.yaml',\n",
    "    optim_config_path='../config/optim_config/vanilla-e1.yaml',\n",
    "    loss_config_path='../config/loss_config/b-cumulative.yaml',\n",
    "    ds_config_path='../config/ds_config/summary.yaml',\n",
    "    state_dict_path='../ckpts/summary-b-seen-epoch=02-bc92.ckpt',\n",
    ")"
   ]
  },
  {
   "cell_type": "code",
   "execution_count": 46,
   "metadata": {},
   "outputs": [
    {
     "name": "stdout",
     "output_type": "stream",
     "text": [
      "items_prime[0]=tensor([[-0.4623, -3.6934,  1.5608,  ..., -1.7927,  3.0306, -1.9023],\n",
      "        [-0.0801, -3.2334,  4.6325,  ...,  0.1047,  2.6710, -2.0856],\n",
      "        [-0.2887, -3.6674,  3.5159,  ..., -1.6389,  2.6698, -3.2263],\n",
      "        ...,\n",
      "        [ 0.1620,  1.5926,  1.5016,  ..., -1.9584,  2.0274, -2.0478],\n",
      "        [-0.1873,  4.0954,  1.5305,  ..., -1.8824,  1.8769, -0.5328],\n",
      "        [-0.3072,  2.4888,  2.3021,  ..., -0.5701,  1.8019, -1.1066]],\n",
      "       grad_fn=<SelectBackward0>)\n",
      "prompt_prime[0]=tensor([[-0.4616, -3.6943,  1.5638,  ..., -1.7951,  3.0320, -1.9020],\n",
      "        [-0.0793, -3.2343,  4.6356,  ...,  0.1023,  2.6724, -2.0853],\n",
      "        [-0.2879, -3.6683,  3.5189,  ..., -1.6413,  2.6711, -3.2259],\n",
      "        ...,\n",
      "        [ 0.1628,  1.5917,  1.5047,  ..., -1.9608,  2.0287, -2.0475],\n",
      "        [-0.1866,  4.0945,  1.5336,  ..., -1.8848,  1.8782, -0.5324],\n",
      "        [-0.3065,  2.4878,  2.3051,  ..., -0.5725,  1.8032, -1.1062]],\n",
      "       grad_fn=<SelectBackward0>)\n",
      "items_prime.shape=torch.Size([1, 7, 512])\n",
      "prompt_prime.shape=torch.Size([1, 7, 512])\n",
      "tensor(3.2628, grad_fn=<ClampBackward1>)\n",
      "tensor([[[1.0000, 1.0000, 1.0000, 1.0000, 1.0000, 1.0000, 1.0000]]],\n",
      "       grad_fn=<SumBackward1>)\n"
     ]
    },
    {
     "data": {
      "text/plain": [
       "tensor([[[3.2628, 3.2628, 3.2628, 3.2628, 3.2628, 3.2628, 3.2628]]],\n",
       "       grad_fn=<MulBackward0>)"
      ]
     },
     "execution_count": 46,
     "metadata": {},
     "output_type": "execute_result"
    }
   ],
   "source": [
    "pal_c(tmp)"
   ]
  },
  {
   "cell_type": "code",
   "execution_count": null,
   "metadata": {},
   "outputs": [],
   "source": []
  },
  {
   "cell_type": "code",
   "execution_count": null,
   "metadata": {},
   "outputs": [],
   "source": []
  },
  {
   "cell_type": "code",
   "execution_count": null,
   "metadata": {},
   "outputs": [],
   "source": []
  },
  {
   "cell_type": "code",
   "execution_count": null,
   "metadata": {},
   "outputs": [],
   "source": []
  },
  {
   "cell_type": "code",
   "execution_count": null,
   "metadata": {},
   "outputs": [],
   "source": []
  },
  {
   "cell_type": "code",
   "execution_count": null,
   "metadata": {},
   "outputs": [],
   "source": []
  },
  {
   "cell_type": "code",
   "execution_count": 74,
   "metadata": {},
   "outputs": [],
   "source": [
    "a = torch.randn(1, 512)\n",
    "b = torch.randn(1, 512)"
   ]
  },
  {
   "cell_type": "code",
   "execution_count": 75,
   "metadata": {},
   "outputs": [],
   "source": [
    "a = a / torch.norm(a, dim=-1, keepdim=True)\n",
    "b = b / torch.norm(b, dim=-1, keepdim=True)"
   ]
  },
  {
   "cell_type": "code",
   "execution_count": 76,
   "metadata": {},
   "outputs": [
    {
     "data": {
      "text/plain": [
       "tensor([0.0603])"
      ]
     },
     "execution_count": 76,
     "metadata": {},
     "output_type": "execute_result"
    }
   ],
   "source": [
    "(a * b).sum(dim=-1)"
   ]
  },
  {
   "cell_type": "code",
   "execution_count": null,
   "metadata": {},
   "outputs": [],
   "source": []
  },
  {
   "cell_type": "code",
   "execution_count": null,
   "metadata": {},
   "outputs": [],
   "source": []
  },
  {
   "cell_type": "code",
   "execution_count": null,
   "metadata": {},
   "outputs": [],
   "source": []
  },
  {
   "cell_type": "code",
   "execution_count": null,
   "metadata": {},
   "outputs": [],
   "source": []
  },
  {
   "cell_type": "markdown",
   "metadata": {},
   "source": [
    "# check the group structure"
   ]
  },
  {
   "cell_type": "code",
   "execution_count": 44,
   "metadata": {},
   "outputs": [],
   "source": [
    "W = pal.prefLearner.user_learner.W"
   ]
  },
  {
   "cell_type": "code",
   "execution_count": 45,
   "metadata": {},
   "outputs": [],
   "source": [
    "W_extract = [W[i].detach().numpy() for i in W.keys()]"
   ]
  },
  {
   "cell_type": "code",
   "execution_count": 48,
   "metadata": {},
   "outputs": [
    {
     "data": {
      "text/plain": [
       "[<matplotlib.lines.Line2D at 0x7785560337a0>]"
      ]
     },
     "execution_count": 48,
     "metadata": {},
     "output_type": "execute_result"
    },
    {
     "data": {
      "image/png": "[encoded data removed]",
      "text/plain": [
       "<Figure size 640x480 with 1 Axes>"
      ]
     },
     "metadata": {},
     "output_type": "display_data"
    },
    {
     "ename": "",
     "evalue": "",
     "output_type": "error",
     "traceback": [
      "\u001b[1;31mThe Kernel crashed while executing code in the current cell or a previous cell. \n",
      "\u001b[1;31mPlease review the code in the cell(s) to identify a possible cause of the failure. \n",
      "\u001b[1;31mClick <a href='https://aka.ms/vscodeJupyterKernelCrash'>here</a> for more info. \n",
      "\u001b[1;31mView Jupyter <a href='command:jupyter.viewOutput'>log</a> for further details."
     ]
    }
   ],
   "source": [
    "import numpy as np\n",
    "import matplotlib.pyplot as plt\n",
    "import torch.nn.functional as F\n",
    "\n",
    "W_extract = np.stack(W_extract)\n",
    "W_extract = F.softmax(torch.tensor(W_extract), dim=1).numpy()\n",
    "\n",
    "minority = [3, 4, 5]\n",
    "majority = [0, 1, 2, 6, 7, 8, 9]\n",
    "\n",
    "# create color index, different for minority and majority\n",
    "color_idx = np.zeros(10)\n",
    "color_idx[minority] = 1\n",
    "color_idx[majority] = 0\n",
    "\n",
    "plt.scatter(W_extract[:, 0], W_extract[:, 1], c=color_idx)\n",
    "plt.plot([0, 1], [0, 1], '--')"
   ]
  },
  {
   "cell_type": "code",
   "execution_count": null,
   "metadata": {},
   "outputs": [],
   "source": []
  },
  {
   "cell_type": "code",
   "execution_count": null,
   "metadata": {},
   "outputs": [],
   "source": []
  },
  {
   "cell_type": "code",
   "execution_count": null,
   "metadata": {},
   "outputs": [],
   "source": []
  },
  {
   "cell_type": "code",
   "execution_count": null,
   "metadata": {},
   "outputs": [],
   "source": []
  },
  {
   "cell_type": "code",
   "execution_count": null,
   "metadata": {},
   "outputs": [],
   "source": []
  },
  {
   "cell_type": "code",
   "execution_count": null,
   "metadata": {},
   "outputs": [],
   "source": []
  }
 ],
 "metadata": {
  "kernelspec": {
   "display_name": "pal",
   "language": "python",
   "name": "python3"
  },
  "language_info": {
   "codemirror_mode": {
    "name": "ipython",
    "version": 3
   },
   "file_extension": ".py",
   "mimetype": "text/x-python",
   "name": "python",
   "nbconvert_exporter": "python",
   "pygments_lexer": "ipython3",
   "version": "3.12.5"
  }
 },
 "nbformat": 4,
 "nbformat_minor": 2
}
